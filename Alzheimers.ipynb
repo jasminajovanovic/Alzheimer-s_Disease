{
  "nbformat": 4,
  "nbformat_minor": 0,
  "metadata": {
    "colab": {
      "name": "Alzheimers.ipynb",
      "version": "0.3.2",
      "provenance": [],
      "collapsed_sections": [],
      "include_colab_link": true
    },
    "kernelspec": {
      "name": "python3",
      "display_name": "Python 3"
    },
    "accelerator": "GPU"
  },
  "cells": [
    {
      "cell_type": "markdown",
      "metadata": {
        "id": "view-in-github",
        "colab_type": "text"
      },
      "source": [
        "<a href=\"https://colab.research.google.com/github/parismoscow/Alzheimer-s_Disease/blob/master/Alzheimers.ipynb\" target=\"_parent\"><img src=\"https://colab.research.google.com/assets/colab-badge.svg\" alt=\"Open In Colab\"/></a>"
      ]
    },
    {
      "cell_type": "code",
      "metadata": {
        "id": "4Xse9oyR7Cgm",
        "colab_type": "code",
        "outputId": "bfbd210a-4a70-4017-f690-23ffbff26da7",
        "colab": {
          "base_uri": "https://localhost:8080/",
          "height": 150
        }
      },
      "source": [
        "!pip install imblearn"
      ],
      "execution_count": 1,
      "outputs": [
        {
          "output_type": "stream",
          "text": [
            "Requirement already satisfied: imblearn in /usr/local/lib/python3.6/dist-packages (0.0)\n",
            "Requirement already satisfied: imbalanced-learn in /usr/local/lib/python3.6/dist-packages (from imblearn) (0.4.3)\n",
            "Requirement already satisfied: scipy>=0.13.3 in /usr/local/lib/python3.6/dist-packages (from imbalanced-learn->imblearn) (1.3.0)\n",
            "Requirement already satisfied: numpy>=1.8.2 in /usr/local/lib/python3.6/dist-packages (from imbalanced-learn->imblearn) (1.16.4)\n",
            "Requirement already satisfied: scikit-learn>=0.20 in /usr/local/lib/python3.6/dist-packages (from imbalanced-learn->imblearn) (0.21.2)\n",
            "Requirement already satisfied: joblib>=0.11 in /usr/local/lib/python3.6/dist-packages (from scikit-learn>=0.20->imbalanced-learn->imblearn) (0.13.2)\n"
          ],
          "name": "stdout"
        }
      ]
    },
    {
      "cell_type": "code",
      "metadata": {
        "id": "ifRTf2aBnd05",
        "colab_type": "code",
        "outputId": "789ed0c2-465e-4c52-95e0-ecc92ac4a975",
        "colab": {
          "base_uri": "https://localhost:8080/",
          "height": 75
        }
      },
      "source": [
        "import pandas as pd\n",
        "import numpy as np\n",
        "from sklearn.model_selection import train_test_split\n",
        "from sklearn.metrics import classification_report\n",
        "from sklearn.preprocessing import MinMaxScaler\n",
        "from sklearn.preprocessing import StandardScaler\n",
        "from sklearn.model_selection import GridSearchCV\n",
        "from sklearn.ensemble import RandomForestClassifier\n",
        "from imblearn.over_sampling import SMOTE\n",
        "from imblearn.over_sampling import RandomOverSampler\n",
        "from sklearn.decomposition import PCA\n",
        "from sklearn.svm import SVC\n",
        "from sklearn.metrics import confusion_matrix\n",
        "from sklearn.linear_model import LogisticRegression\n",
        "from sklearn.preprocessing import LabelEncoder\n",
        "from collections import Counter\n",
        "\n",
        "\n"
      ],
      "execution_count": 2,
      "outputs": [
        {
          "output_type": "stream",
          "text": [
            "/usr/local/lib/python3.6/dist-packages/sklearn/externals/six.py:31: DeprecationWarning: The module is deprecated in version 0.21 and will be removed in version 0.23 since we've dropped support for Python 2.7. Please rely on the official version of six (https://pypi.org/project/six/).\n",
            "  \"(https://pypi.org/project/six/).\", DeprecationWarning)\n"
          ],
          "name": "stderr"
        }
      ]
    },
    {
      "cell_type": "code",
      "metadata": {
        "id": "bjyeL3Et9rVX",
        "colab_type": "code",
        "outputId": "892a7550-20d7-4f1e-9e36-4269349c9592",
        "colab": {
          "base_uri": "https://localhost:8080/",
          "height": 56
        }
      },
      "source": [
        "# Run this cell to mount your Google Drive.\n",
        "from google.colab import drive\n",
        "drive.mount('/content/drive')"
      ],
      "execution_count": 3,
      "outputs": [
        {
          "output_type": "stream",
          "text": [
            "Drive already mounted at /content/drive; to attempt to forcibly remount, call drive.mount(\"/content/drive\", force_remount=True).\n"
          ],
          "name": "stdout"
        }
      ]
    },
    {
      "cell_type": "code",
      "metadata": {
        "id": "XiXhd9GEqIg8",
        "colab_type": "code",
        "colab": {
          "base_uri": "https://localhost:8080/",
          "height": 75
        },
        "outputId": "81a84e54-305d-4a23-a632-8867aad56813"
      },
      "source": [
        "# df = pd.read_csv(\"/content/drive/My Drive/measures.csv\")\n",
        "# df = pd.read_csv(\"/content/drive/My Drive/pct_changes.csv\")\n",
        "# choose either 'DX' or 'DXCHANGE' for prediction\n",
        "# df = pd.read_csv(\"/content/drive/My Drive/TADPOLE_D1_D2.csv\").loc[:, [\"PTID\", \"DX\", \"PTEDUCAT\", \"ADAS13\", \"Ventricles\", \"CDRSB\", \"ADAS11\", \"MMSE\",  \"RAVLT_immediate\", \"Hippocampus\", \"WholeBrain\", \"Entorhinal\", \"MidTemp\"]]\n",
        "df = pd.read_csv(\"/content/drive/My Drive/TADPOLE_D1_D2.csv\").loc[:, [\"PTID\", \"DX\", \"PTGENDER\", \"PTEDUCAT\", \"ADAS13\", \"Ventricles\", \"CDRSB\", \"ADAS11\", \"MMSE\",  \"RAVLT_immediate\", \"Hippocampus\", \"WholeBrain\", \"Entorhinal\", \"MidTemp\", \"FDG\", \"AV45\", \"ABETA_UPENNBIOMK9_04_19_17\", \"TAU_UPENNBIOMK9_04_19_17\", \"PTAU_UPENNBIOMK9_04_19_17\", \"APOE4\"]]\n",
        "# df = pd.read_csv(\"/content/drive/My Drive/TADPOLE_D1_D2.csv\").loc[:, [\"PTID\", \"DXCHANGE\", \"PTRACCAT\", \"PTETHCAT\", \"PTGENDER\", \"PTEDUCAT\", \"CDRSB\", \"ADAS11\", \"MMSE\", \"ADAS13\", \"RAVLT_immediate\"]]"
      ],
      "execution_count": 4,
      "outputs": [
        {
          "output_type": "stream",
          "text": [
            "/usr/local/lib/python3.6/dist-packages/IPython/core/interactiveshell.py:2718: DtypeWarning: Columns (471,473,474,487,488,489,490,491,492,493,494,495,496,497,498,499,500,501,502,503,504,505,506,507,508,509,510,511,512,513,514,515,516,517,518,519,520,521,522,523,524,525,526,527,528,529,530,531,532,533,534,535,536,537,538,539,540,541,542,543,544,545,546,547,548,549,550,551,552,553,554,555,556,557,558,559,560,561,562,563,569,570,572,573,574,575,576,577,578,579,580,581,582,583,584,585,586,587,588,589,590,591,592,593,594,595,596,597,599,601,606,607,608,609,610,611,612,613,614,615,616,617,618,619,620,621,624,625,626,627,628,629,630,631,632,633,634,636,637,638,639,640,641,642,643,644,645,646,647,648,649,650,651,652,653,654,655,656,657,658,659,660,661,663,664,665,666,667,668,669,670,671,672,673,674,675,676,677,678,679,680,681,682,683,684,685,686,687,688,689,690,691,692,693,694,695,696,697,698,699,700,701,702,703,704,705,706,707,708,709,710,711,712,713,714,715,716,717,718,719,720,721,722,723,724,725,726,727,728,729,730,731,732,733,734,735,736,737,738,739,745,746,748,749,750,751,752,753,754,755,756,757,758,759,760,761,762,763,764,765,766,767,770,771,776,777,778,779,780,781,782,783,784,785,786,787,788,789,790,791,794,795,797,798,799,800,801,802,803,804,806,807,808,809,810,811,812,813,814,815,816,817,818,819,820,821,822,823,824,825,826,827,828,829,830,831) have mixed types. Specify dtype option on import or set low_memory=False.\n",
            "  interactivity=interactivity, compiler=compiler, result=result)\n"
          ],
          "name": "stderr"
        }
      ]
    },
    {
      "cell_type": "code",
      "metadata": {
        "id": "PZNttPE5yEWE",
        "colab_type": "code",
        "colab": {
          "base_uri": "https://localhost:8080/",
          "height": 36
        },
        "outputId": "42912793-c2d2-40dc-d82a-8fcbc7bd3d84"
      },
      "source": [
        "df.shape[0]"
      ],
      "execution_count": 5,
      "outputs": [
        {
          "output_type": "execute_result",
          "data": {
            "text/plain": [
              "12741"
            ]
          },
          "metadata": {
            "tags": []
          },
          "execution_count": 5
        }
      ]
    },
    {
      "cell_type": "code",
      "metadata": {
        "id": "OBjaGvZSlLN-",
        "colab_type": "code",
        "colab": {}
      },
      "source": [
        "# df['DX'].value_counts()"
      ],
      "execution_count": 0,
      "outputs": []
    },
    {
      "cell_type": "markdown",
      "metadata": {
        "id": "voQ06fz5O_ln",
        "colab_type": "text"
      },
      "source": [
        "Use all suggested features"
      ]
    },
    {
      "cell_type": "code",
      "metadata": {
        "id": "1kOyQ7il1pBq",
        "colab_type": "code",
        "colab": {}
      },
      "source": [
        "def cleanup_data (df, drop):\n",
        "  df = df.replace(r'^\\s*$', np.nan, regex=True)\n",
        "#   df.fillna(value=0, inplace=True)\n",
        "  if drop:\n",
        "    df.dropna(inplace=True)\n",
        "  else:\n",
        "    df.fillna(value=0, inplace=True)\n",
        "  \n",
        "  \n",
        "  if 'ABETA_UPENNBIOMK9_04_19_17' in df: \n",
        "    df.loc[df['ABETA_UPENNBIOMK9_04_19_17'] == '<200', 'ABETA_UPENNBIOMK9_04_19_17'] = 199\n",
        "    df['ABETA_UPENNBIOMK9_04_19_17'] = df['ABETA_UPENNBIOMK9_04_19_17'].astype(float)\n",
        "  if 'TAU_UPENNBIOMK9_04_19_17' in df: \n",
        "    df.loc[df['TAU_UPENNBIOMK9_04_19_17'] == '>1300', 'TAU_UPENNBIOMK9_04_19_17'] = 1301\n",
        "    df.loc[df['TAU_UPENNBIOMK9_04_19_17'] == '<80', 'TAU_UPENNBIOMK9_04_19_17'] = 79\n",
        "    df['TAU_UPENNBIOMK9_04_19_17'] = df['TAU_UPENNBIOMK9_04_19_17'].astype(float)\n",
        "  if 'PTAU_UPENNBIOMK9_04_19_17' in df:\n",
        "    df.loc[df['PTAU_UPENNBIOMK9_04_19_17'] == '>120', 'PTAU_UPENNBIOMK9_04_19_17'] = 121\n",
        "    df.loc[df['PTAU_UPENNBIOMK9_04_19_17'] == '<8', 'PTAU_UPENNBIOMK9_04_19_17'] = 7\n",
        "    df['PTAU_UPENNBIOMK9_04_19_17'] = df['PTAU_UPENNBIOMK9_04_19_17'].astype(float)\n",
        "\n",
        "\n",
        "  # Remove diagnosis changes that are unlikely\n",
        "#   df = df.loc[(df['final_DX'] == 'MCI') | (df['final_DX'] == 'Dementia') | (df['final_DX'] == 'NL')]\n",
        "  df = df.loc[(df['DX'] == 'MCI') | (df['DX'] == 'Dementia') | (df['DX'] == 'NL')]\n",
        "\n",
        "#   df = df.loc[(df['DXCHANGE'] == 1) | (df['DXCHANGE'] == 2) | (df['DXCHANGE'] == 3) | (df['DXCHANGE'] == 4) | (df['DXCHANGE'] == 5)]\n",
        "  \n",
        "  \n",
        "  return df"
      ],
      "execution_count": 0,
      "outputs": []
    },
    {
      "cell_type": "code",
      "metadata": {
        "id": "cQHl73ruFgn9",
        "colab_type": "code",
        "colab": {}
      },
      "source": [
        "drop = True\n",
        "df = cleanup_data(df, drop)"
      ],
      "execution_count": 0,
      "outputs": []
    },
    {
      "cell_type": "code",
      "metadata": {
        "id": "lwrz5zZzqIH_",
        "colab_type": "code",
        "colab": {}
      },
      "source": [
        "def add_pct_change(df, feature_list):\n",
        "  for feature in feature_list:\n",
        "    new_column = \"pct_\" + feature\n",
        "#     df[feature].loc[df[feature] == 0][feature] = 1\n",
        "#     if divisor != 0:\n",
        "    df[new_column] = 100 * (1 - df.iloc[0][feature] / df[feature])\n",
        "  return df\n",
        "\n"
      ],
      "execution_count": 0,
      "outputs": []
    },
    {
      "cell_type": "code",
      "metadata": {
        "id": "NvOIOYyvtBe0",
        "colab_type": "code",
        "colab": {}
      },
      "source": [
        "def add_sum_column (df):\n",
        "  df['pct_sum'] = df['pct_Hippocampus'] + df['pct_WholeBrain'] + df['pct_Entorhinal'] + df['pct_MidTemp']\n",
        "  return df"
      ],
      "execution_count": 0,
      "outputs": []
    },
    {
      "cell_type": "code",
      "metadata": {
        "id": "WJQVNlHnkZoy",
        "colab_type": "code",
        "colab": {}
      },
      "source": [
        "def add_final_dx_column(df):\n",
        "  for dx in ['Dementia', 'MCI', \"NL\"]:\n",
        "    if dx in df['DX'].values:\n",
        "      df['final_DX'] = dx \n",
        "      return df"
      ],
      "execution_count": 0,
      "outputs": []
    },
    {
      "cell_type": "code",
      "metadata": {
        "id": "J0qmcD7ClfNT",
        "colab_type": "code",
        "colab": {}
      },
      "source": [
        "# df = df.groupby('PTID').apply(add_final_dx_column)\n"
      ],
      "execution_count": 0,
      "outputs": []
    },
    {
      "cell_type": "code",
      "metadata": {
        "id": "ILRIY6Otreio",
        "colab_type": "code",
        "colab": {}
      },
      "source": [
        "df = df.groupby('PTID').apply(add_pct_change, ['Ventricles', 'Hippocampus', 'WholeBrain', 'Entorhinal', 'MidTemp'])\n",
        "df = df.groupby('PTID').apply(add_sum_column)\n",
        "# df = df.groupby('PTID').apply(add_final_dx_column)\n",
        "# df = df.groupby('PTID').apply(add_pct_change, [\"ADAS13\", \"CDRSB\", \"ADAS11\", \"MMSE\", \"RAVLT_immediate\"])\n"
      ],
      "execution_count": 0,
      "outputs": []
    },
    {
      "cell_type": "code",
      "metadata": {
        "id": "qZZpnJzMp7tx",
        "colab_type": "code",
        "colab": {}
      },
      "source": [
        ""
      ],
      "execution_count": 0,
      "outputs": []
    },
    {
      "cell_type": "code",
      "metadata": {
        "id": "ad0Fa6Crxkv0",
        "colab_type": "code",
        "colab": {
          "base_uri": "https://localhost:8080/",
          "height": 36
        },
        "outputId": "214a569c-4c8b-4080-ef73-e9780cf17188"
      },
      "source": [
        "df.shape[0]"
      ],
      "execution_count": 13,
      "outputs": [
        {
          "output_type": "execute_result",
          "data": {
            "text/plain": [
              "813"
            ]
          },
          "metadata": {
            "tags": []
          },
          "execution_count": 13
        }
      ]
    },
    {
      "cell_type": "code",
      "metadata": {
        "id": "_9Tfe_hIUc9I",
        "colab_type": "code",
        "colab": {}
      },
      "source": [
        "def show_data (df, category):\n",
        "  print (\"There are \", df[category].count(), \" records\")\n",
        "  print (\"Category breakdown \\n\", df[category].value_counts())"
      ],
      "execution_count": 0,
      "outputs": []
    },
    {
      "cell_type": "code",
      "metadata": {
        "id": "sHKdcPNBU6_o",
        "colab_type": "code",
        "colab": {
          "base_uri": "https://localhost:8080/",
          "height": 130
        },
        "outputId": "db522efc-87af-4f19-9eef-81ef1ba0f05c"
      },
      "source": [
        "show_data(df, 'DX')"
      ],
      "execution_count": 15,
      "outputs": [
        {
          "output_type": "stream",
          "text": [
            "There are  813  records\n",
            "Category breakdown \n",
            " MCI         425\n",
            "NL          281\n",
            "Dementia    107\n",
            "Name: DX, dtype: int64\n"
          ],
          "name": "stdout"
        }
      ]
    },
    {
      "cell_type": "code",
      "metadata": {
        "id": "5og6_tIQ6gdL",
        "colab_type": "code",
        "colab": {}
      },
      "source": [
        "def populate_X_y (df, y_cat, encode_list):\n",
        "  y = df[y_cat]\n",
        "  X = df.drop(columns=[y_cat, 'PTID'])\n",
        "#   X = df.drop(columns=[y_cat, 'PTID'])\n",
        "# todo replace following line with one above\n",
        "#   X = df.drop(columns=[y_cat])\n",
        "  label_encoder = LabelEncoder()\n",
        "  for label in encode_list:\n",
        "    if label in X:\n",
        "      encode = X[label]\n",
        "      label_encoder.fit(encode)\n",
        "      X[label]= label_encoder.transform(encode)\n",
        "  return X, y"
      ],
      "execution_count": 0,
      "outputs": []
    },
    {
      "cell_type": "code",
      "metadata": {
        "id": "2zJ_nSMXXJT7",
        "colab_type": "code",
        "colab": {}
      },
      "source": [
        "X, y = populate_X_y (df, 'DX', [\"PTRACCAT\", \"PTETHCAT\", \"PTGENDER\"])"
      ],
      "execution_count": 0,
      "outputs": []
    },
    {
      "cell_type": "markdown",
      "metadata": {
        "id": "Pcs3JASAS6Ny",
        "colab_type": "text"
      },
      "source": [
        "Split data into train and test"
      ]
    },
    {
      "cell_type": "code",
      "metadata": {
        "id": "N12QSF2gn5ks",
        "colab_type": "code",
        "colab": {}
      },
      "source": [
        "X_train, X_test, y_train, y_test = train_test_split (X, y, random_state=42)"
      ],
      "execution_count": 0,
      "outputs": []
    },
    {
      "cell_type": "markdown",
      "metadata": {
        "id": "l_2oJLT06-34",
        "colab_type": "text"
      },
      "source": [
        "PCA"
      ]
    },
    {
      "cell_type": "code",
      "metadata": {
        "id": "ZBYkDsaP4WUP",
        "colab_type": "code",
        "colab": {}
      },
      "source": [
        "def myPCA (X_train, X_test):\n",
        "  pca = PCA()  \n",
        "  X_train = pca.fit_transform(X_train)  \n",
        "  X_test = pca.transform(X_test)  \n",
        "  return X_train, X_test"
      ],
      "execution_count": 0,
      "outputs": []
    },
    {
      "cell_type": "code",
      "metadata": {
        "id": "ApSq4HQOXebT",
        "colab_type": "code",
        "colab": {}
      },
      "source": [
        "# X_train, X_test = myPCA (X_train, X_test)"
      ],
      "execution_count": 0,
      "outputs": []
    },
    {
      "cell_type": "markdown",
      "metadata": {
        "id": "qaY-gE6SGoVr",
        "colab_type": "text"
      },
      "source": [
        "Scale the features"
      ]
    },
    {
      "cell_type": "code",
      "metadata": {
        "id": "YE822vZwA-_p",
        "colab_type": "code",
        "colab": {}
      },
      "source": [
        "def scale_features (scaler, X_train, X_test):\n",
        "  if scaler == 'minmax':\n",
        "    X_train = MinMaxScaler().fit(X_train).transform(X_train);\n",
        "    X_test = MinMaxScaler().fit(X_test).transform(X_test);\n",
        "  elif scaler == 'standard':\n",
        "    X_train = StandardScaler().fit(X_train).transform(X_train);\n",
        "    X_test = StandardScaler().fit(X_test).transform(X_test);\n",
        "    \n",
        "  return X_train, X_test\n",
        "  "
      ],
      "execution_count": 0,
      "outputs": []
    },
    {
      "cell_type": "code",
      "metadata": {
        "id": "7sPgChLJd6M5",
        "colab_type": "code",
        "colab": {}
      },
      "source": [
        "# X_test.dtypes"
      ],
      "execution_count": 0,
      "outputs": []
    },
    {
      "cell_type": "code",
      "metadata": {
        "id": "sK2Y50GzbQ71",
        "colab_type": "code",
        "colab": {}
      },
      "source": [
        "X_train, X_test = scale_features ('standard', X_train, X_test)"
      ],
      "execution_count": 0,
      "outputs": []
    },
    {
      "cell_type": "code",
      "metadata": {
        "id": "IjlNN2nreFRY",
        "colab_type": "code",
        "colab": {}
      },
      "source": [
        "# X_train.head(50)"
      ],
      "execution_count": 0,
      "outputs": []
    },
    {
      "cell_type": "code",
      "metadata": {
        "id": "xrHQlIw68MDE",
        "colab_type": "code",
        "colab": {}
      },
      "source": [
        "def oversample (alg, X_train, y_train):\n",
        "  if alg == 'smote':\n",
        "    smt = SMOTE()\n",
        "    X_train, y_train = smt.fit_sample(X_train, y_train)\n",
        "    print('Resampled dataset shape %s' % Counter(y_train))\n",
        "    return X_train, y_train\n",
        "  if alg == 'random':\n",
        "    ros = RandomOverSampler(random_state=42)\n",
        "    X_train, y_train = ros.fit_sample(X_train, y_train)\n",
        "    print('Resampled dataset shape %s' % Counter(y_train))\n",
        "    return X_train, y_train"
      ],
      "execution_count": 0,
      "outputs": []
    },
    {
      "cell_type": "code",
      "metadata": {
        "id": "FAGVDIogb9vM",
        "colab_type": "code",
        "colab": {
          "base_uri": "https://localhost:8080/",
          "height": 36
        },
        "outputId": "3de49f25-e94b-4b98-da65-0bd79623b363"
      },
      "source": [
        "# oversample using SMOTE or random\n",
        "X_train, y_train = oversample ('smote', X_train, y_train)"
      ],
      "execution_count": 26,
      "outputs": [
        {
          "output_type": "stream",
          "text": [
            "Resampled dataset shape Counter({'MCI': 317, 'NL': 317, 'Dementia': 317})\n"
          ],
          "name": "stdout"
        }
      ]
    },
    {
      "cell_type": "markdown",
      "metadata": {
        "id": "EvmQV_4N2-CW",
        "colab_type": "text"
      },
      "source": [
        "Select and run a model"
      ]
    },
    {
      "cell_type": "code",
      "metadata": {
        "id": "19jn7b0yckVU",
        "colab_type": "code",
        "colab": {}
      },
      "source": [
        "def run_model (model_name, X_train, X_test, y_train, y_test):\n",
        "  if 'svc' in model_name.lower():\n",
        "    model = SVC(kernel='linear')\n",
        "    \n",
        "  elif 'random forest' in model_name.lower():\n",
        "    model = RandomForestClassifier(n_estimators=200)\n",
        "  \n",
        "  elif 'logistic regression' in model_name.lower():\n",
        "    model = LogisticRegression()\n",
        "      \n",
        "  model.fit(X_train, y_train)\n",
        "  print (\"*************\", model_name, \"*************\\n\", \"\\nScore is: \", model.score(X_test, y_test), \"\\n\")\n",
        "  predictions = model.predict(X_test)\n",
        "  print (\"\\nConfusion matrix\\n\", confusion_matrix(y_test, predictions))\n",
        "  print(\"\\n\", classification_report(y_test, predictions))\n",
        "#   print(\"\\n\", classification_report(y_test, predictions, target_names=[\"NL to NL\", \"MCI to MCI\", \"AD to AD\", \"NL to MCI\", \"MCI to AD\" ]))\n",
        "\n",
        "  return model\n"
      ],
      "execution_count": 0,
      "outputs": []
    },
    {
      "cell_type": "code",
      "metadata": {
        "id": "ACy8TZya0TBK",
        "colab_type": "code",
        "colab": {
          "base_uri": "https://localhost:8080/",
          "height": 92
        },
        "outputId": "706957cc-3d30-4bd0-bd0a-52159dfcdb65"
      },
      "source": [
        "y_test.value_counts()"
      ],
      "execution_count": 28,
      "outputs": [
        {
          "output_type": "execute_result",
          "data": {
            "text/plain": [
              "MCI         108\n",
              "NL           71\n",
              "Dementia     25\n",
              "Name: DX, dtype: int64"
            ]
          },
          "metadata": {
            "tags": []
          },
          "execution_count": 28
        }
      ]
    },
    {
      "cell_type": "code",
      "metadata": {
        "id": "uivZYqWJDDkN",
        "colab_type": "code",
        "colab": {
          "base_uri": "https://localhost:8080/",
          "height": 392
        },
        "outputId": "f7b2ddfe-fc54-458c-ab7d-99e4e4935701"
      },
      "source": [
        "model = run_model('random forest with prct change, new sum column', X_train, X_test, y_train, y_test)"
      ],
      "execution_count": 37,
      "outputs": [
        {
          "output_type": "stream",
          "text": [
            "************* random forest with prct change, new sum column *************\n",
            " \n",
            "Score is:  0.9313725490196079 \n",
            "\n",
            "\n",
            "Confusion matrix\n",
            " [[ 22   3   0]\n",
            " [  5 101   2]\n",
            " [  0   4  67]]\n",
            "\n",
            "               precision    recall  f1-score   support\n",
            "\n",
            "    Dementia       0.81      0.88      0.85        25\n",
            "         MCI       0.94      0.94      0.94       108\n",
            "          NL       0.97      0.94      0.96        71\n",
            "\n",
            "    accuracy                           0.93       204\n",
            "   macro avg       0.91      0.92      0.91       204\n",
            "weighted avg       0.93      0.93      0.93       204\n",
            "\n"
          ],
          "name": "stdout"
        }
      ]
    },
    {
      "cell_type": "code",
      "metadata": {
        "id": "lW6EA1YZliGm",
        "colab_type": "code",
        "colab": {
          "base_uri": "https://localhost:8080/",
          "height": 467
        },
        "outputId": "1ac8cd22-bf51-4853-86c4-c1b65680b8b2"
      },
      "source": [
        "importances = model.feature_importances_\n",
        "X_features = X.columns\n",
        "sorted(zip(model.feature_importances_, X_features), reverse=True)\n",
        "\n"
      ],
      "execution_count": 30,
      "outputs": [
        {
          "output_type": "execute_result",
          "data": {
            "text/plain": [
              "[(0.3165900470230781, 'CDRSB'),\n",
              " (0.11569776979236349, 'MMSE'),\n",
              " (0.11246923930463948, 'ADAS13'),\n",
              " (0.0967681089712002, 'ADAS11'),\n",
              " (0.059272980390757894, 'RAVLT_immediate'),\n",
              " (0.052144822639033445, 'FDG'),\n",
              " (0.035093182574552524, 'Hippocampus'),\n",
              " (0.030412840083543474, 'AV45'),\n",
              " (0.027887195420059213, 'ABETA_UPENNBIOMK9_04_19_17'),\n",
              " (0.020883249383372555, 'Entorhinal'),\n",
              " (0.020516146761139796, 'TAU_UPENNBIOMK9_04_19_17'),\n",
              " (0.02038206816301778, 'Ventricles'),\n",
              " (0.018147171699403664, 'PTAU_UPENNBIOMK9_04_19_17'),\n",
              " (0.0175413705654917, 'WholeBrain'),\n",
              " (0.016693550110949685, 'MidTemp'),\n",
              " (0.01050933365875073, 'PTEDUCAT'),\n",
              " (0.009888982884200039, 'APOE4'),\n",
              " (0.0039912433794230566, 'PTGENDER'),\n",
              " (0.003052634970240467, 'pct_MidTemp'),\n",
              " (0.0028031096142165568, 'pct_Entorhinal'),\n",
              " (0.002477648371165635, 'pct_Hippocampus'),\n",
              " (0.002366628664697332, 'pct_sum'),\n",
              " (0.0022357066838253857, 'pct_WholeBrain'),\n",
              " (0.002174968890877967, 'pct_Ventricles')]"
            ]
          },
          "metadata": {
            "tags": []
          },
          "execution_count": 30
        }
      ]
    },
    {
      "cell_type": "code",
      "metadata": {
        "id": "KMJTS_MRuELh",
        "colab_type": "code",
        "colab": {
          "base_uri": "https://localhost:8080/",
          "height": 36
        },
        "outputId": "ccd29336-f2c4-4f69-f27b-7ff932b201bc"
      },
      "source": [
        "len(X_features)"
      ],
      "execution_count": 31,
      "outputs": [
        {
          "output_type": "execute_result",
          "data": {
            "text/plain": [
              "24"
            ]
          },
          "metadata": {
            "tags": []
          },
          "execution_count": 31
        }
      ]
    },
    {
      "cell_type": "code",
      "metadata": {
        "id": "xrecxhmuv3jK",
        "colab_type": "code",
        "colab": {}
      },
      "source": [
        ""
      ],
      "execution_count": 0,
      "outputs": []
    },
    {
      "cell_type": "code",
      "metadata": {
        "id": "qrTL1Tx7wBkI",
        "colab_type": "code",
        "colab": {}
      },
      "source": [
        ""
      ],
      "execution_count": 0,
      "outputs": []
    },
    {
      "cell_type": "markdown",
      "metadata": {
        "id": "HjFmhapkbIBq",
        "colab_type": "text"
      },
      "source": [
        "DNN\n"
      ]
    },
    {
      "cell_type": "code",
      "metadata": {
        "id": "-aOAElqkZz7C",
        "colab_type": "code",
        "colab": {
          "base_uri": "https://localhost:8080/",
          "height": 36
        },
        "outputId": "46d8cc95-6c05-46fa-8c0e-97324f7bca48"
      },
      "source": [
        "from keras.models import Sequential\n",
        "from keras.layers import Dense\n",
        "\n",
        "def build_NN_classifier():\n",
        "    classifier = Sequential()\n",
        "    classifier.add(Dense(units=6, activation='relu', input_dim=24))\n",
        "    classifier.add(Dense(units=6, activation='relu'))\n",
        "    classifier.add(Dense(units=3, activation='softmax'))\n",
        "    \n",
        "#     classifier.add(Dense(units=2, activation='relu', input_dim=22))\n",
        "#     classifier.add(Dense(units=3, activation='softmax'))\n",
        "    # classifier.summary()\n",
        "    classifier.compile(optimizer='adam', loss='categorical_crossentropy', metrics=['accuracy'])\n",
        "    return classifier\n",
        "\n",
        "# Create a Keras model that's compatible with scikit-learn\n",
        "from keras.callbacks import EarlyStopping\n",
        "from keras.wrappers.scikit_learn import KerasClassifier\n",
        "keras_NN_classifier = KerasClassifier(build_NN_classifier, epochs=300, shuffle=True, verbose=2, callbacks=[EarlyStopping(monitor='acc', patience=20, verbose=2)])"
      ],
      "execution_count": 32,
      "outputs": [
        {
          "output_type": "stream",
          "text": [
            "Using TensorFlow backend.\n"
          ],
          "name": "stderr"
        }
      ]
    },
    {
      "cell_type": "code",
      "metadata": {
        "id": "oCaGyZeybO1L",
        "colab_type": "code",
        "colab": {}
      },
      "source": [
        "from sklearn.preprocessing import StandardScaler\n",
        "from sklearn.pipeline import make_pipeline\n",
        "# from sklearn.decomposition import PCA\n",
        "# from imblearn.over_sampling import SMOTE\n",
        "\n",
        "# pca = PCA()\n",
        "# smt = SMOTE(random_state=42)\n",
        "\n",
        "# deep_model = make_pipeline(StandardScaler(), smt, pca, keras_NN_classifier)\n",
        "deep_model = make_pipeline(StandardScaler(), keras_NN_classifier)"
      ],
      "execution_count": 0,
      "outputs": []
    },
    {
      "cell_type": "code",
      "metadata": {
        "id": "eG5pRJahbR26",
        "colab_type": "code",
        "colab": {
          "base_uri": "https://localhost:8080/",
          "height": 1000
        },
        "outputId": "a5d1b231-c2f8-45d8-94b3-8f55dcca6aba"
      },
      "source": [
        "deep_model.fit(X_train, y_train)"
      ],
      "execution_count": 34,
      "outputs": [
        {
          "output_type": "stream",
          "text": [
            "WARNING: Logging before flag parsing goes to stderr.\n",
            "W0630 05:25:26.348695 139931325728640 deprecation_wrapper.py:119] From /usr/local/lib/python3.6/dist-packages/keras/backend/tensorflow_backend.py:74: The name tf.get_default_graph is deprecated. Please use tf.compat.v1.get_default_graph instead.\n",
            "\n",
            "W0630 05:25:26.366319 139931325728640 deprecation_wrapper.py:119] From /usr/local/lib/python3.6/dist-packages/keras/backend/tensorflow_backend.py:517: The name tf.placeholder is deprecated. Please use tf.compat.v1.placeholder instead.\n",
            "\n",
            "W0630 05:25:26.368776 139931325728640 deprecation_wrapper.py:119] From /usr/local/lib/python3.6/dist-packages/keras/backend/tensorflow_backend.py:4138: The name tf.random_uniform is deprecated. Please use tf.random.uniform instead.\n",
            "\n",
            "W0630 05:25:26.413208 139931325728640 deprecation_wrapper.py:119] From /usr/local/lib/python3.6/dist-packages/keras/optimizers.py:790: The name tf.train.Optimizer is deprecated. Please use tf.compat.v1.train.Optimizer instead.\n",
            "\n",
            "W0630 05:25:26.436387 139931325728640 deprecation_wrapper.py:119] From /usr/local/lib/python3.6/dist-packages/keras/backend/tensorflow_backend.py:3295: The name tf.log is deprecated. Please use tf.math.log instead.\n",
            "\n",
            "W0630 05:25:26.530554 139931325728640 deprecation.py:323] From /usr/local/lib/python3.6/dist-packages/tensorflow/python/ops/math_grad.py:1250: add_dispatch_support.<locals>.wrapper (from tensorflow.python.ops.array_ops) is deprecated and will be removed in a future version.\n",
            "Instructions for updating:\n",
            "Use tf.where in 2.0, which has the same broadcast rule as np.where\n",
            "W0630 05:25:26.585947 139931325728640 deprecation_wrapper.py:119] From /usr/local/lib/python3.6/dist-packages/keras/backend/tensorflow_backend.py:986: The name tf.assign_add is deprecated. Please use tf.compat.v1.assign_add instead.\n",
            "\n"
          ],
          "name": "stderr"
        },
        {
          "output_type": "stream",
          "text": [
            "Epoch 1/300\n",
            " - 1s - loss: 1.0266 - acc: 0.5247\n",
            "Epoch 2/300\n",
            " - 0s - loss: 0.8873 - acc: 0.5931\n",
            "Epoch 3/300\n",
            " - 0s - loss: 0.7991 - acc: 0.6278\n",
            "Epoch 4/300\n",
            " - 0s - loss: 0.7439 - acc: 0.6530\n",
            "Epoch 5/300\n",
            " - 0s - loss: 0.7024 - acc: 0.6677\n",
            "Epoch 6/300\n",
            " - 0s - loss: 0.6693 - acc: 0.6814\n",
            "Epoch 7/300\n",
            " - 0s - loss: 0.6413 - acc: 0.6909\n",
            "Epoch 8/300\n",
            " - 0s - loss: 0.6182 - acc: 0.7087\n",
            "Epoch 9/300\n",
            " - 0s - loss: 0.5988 - acc: 0.7150\n",
            "Epoch 10/300\n",
            " - 0s - loss: 0.5821 - acc: 0.7182\n",
            "Epoch 11/300\n",
            " - 0s - loss: 0.5678 - acc: 0.7234\n",
            "Epoch 12/300\n",
            " - 0s - loss: 0.5547 - acc: 0.7319\n",
            "Epoch 13/300\n",
            " - 0s - loss: 0.5422 - acc: 0.7350\n",
            "Epoch 14/300\n",
            " - 0s - loss: 0.5312 - acc: 0.7424\n",
            "Epoch 15/300\n",
            " - 0s - loss: 0.5211 - acc: 0.7466\n",
            "Epoch 16/300\n",
            " - 0s - loss: 0.5128 - acc: 0.7476\n",
            "Epoch 17/300\n",
            " - 0s - loss: 0.5042 - acc: 0.7550\n",
            "Epoch 18/300\n",
            " - 0s - loss: 0.4968 - acc: 0.7634\n",
            "Epoch 19/300\n",
            " - 0s - loss: 0.4888 - acc: 0.7708\n",
            "Epoch 20/300\n",
            " - 0s - loss: 0.4820 - acc: 0.7771\n",
            "Epoch 21/300\n",
            " - 0s - loss: 0.4759 - acc: 0.7729\n",
            "Epoch 22/300\n",
            " - 0s - loss: 0.4690 - acc: 0.7844\n",
            "Epoch 23/300\n",
            " - 0s - loss: 0.4629 - acc: 0.7876\n",
            "Epoch 24/300\n",
            " - 0s - loss: 0.4572 - acc: 0.7897\n",
            "Epoch 25/300\n",
            " - 0s - loss: 0.4511 - acc: 0.7939\n",
            "Epoch 26/300\n",
            " - 0s - loss: 0.4454 - acc: 0.7918\n",
            "Epoch 27/300\n",
            " - 0s - loss: 0.4400 - acc: 0.7918\n",
            "Epoch 28/300\n",
            " - 0s - loss: 0.4344 - acc: 0.8002\n",
            "Epoch 29/300\n",
            " - 0s - loss: 0.4285 - acc: 0.8013\n",
            "Epoch 30/300\n",
            " - 0s - loss: 0.4225 - acc: 0.8013\n",
            "Epoch 31/300\n",
            " - 0s - loss: 0.4171 - acc: 0.8065\n",
            "Epoch 32/300\n",
            " - 0s - loss: 0.4111 - acc: 0.8128\n",
            "Epoch 33/300\n",
            " - 0s - loss: 0.4063 - acc: 0.8076\n",
            "Epoch 34/300\n",
            " - 0s - loss: 0.4002 - acc: 0.8118\n",
            "Epoch 35/300\n",
            " - 0s - loss: 0.3957 - acc: 0.8202\n",
            "Epoch 36/300\n",
            " - 0s - loss: 0.3898 - acc: 0.8233\n",
            "Epoch 37/300\n",
            " - 0s - loss: 0.3849 - acc: 0.8286\n",
            "Epoch 38/300\n",
            " - 0s - loss: 0.3799 - acc: 0.8318\n",
            "Epoch 39/300\n",
            " - 0s - loss: 0.3750 - acc: 0.8318\n",
            "Epoch 40/300\n",
            " - 0s - loss: 0.3704 - acc: 0.8360\n",
            "Epoch 41/300\n",
            " - 0s - loss: 0.3658 - acc: 0.8465\n",
            "Epoch 42/300\n",
            " - 0s - loss: 0.3622 - acc: 0.8433\n",
            "Epoch 43/300\n",
            " - 0s - loss: 0.3573 - acc: 0.8486\n",
            "Epoch 44/300\n",
            " - 0s - loss: 0.3532 - acc: 0.8517\n",
            "Epoch 45/300\n",
            " - 0s - loss: 0.3475 - acc: 0.8538\n",
            "Epoch 46/300\n",
            " - 0s - loss: 0.3429 - acc: 0.8549\n",
            "Epoch 47/300\n",
            " - 0s - loss: 0.3385 - acc: 0.8570\n",
            "Epoch 48/300\n",
            " - 0s - loss: 0.3337 - acc: 0.8580\n",
            "Epoch 49/300\n",
            " - 0s - loss: 0.3296 - acc: 0.8570\n",
            "Epoch 50/300\n",
            " - 0s - loss: 0.3247 - acc: 0.8644\n",
            "Epoch 51/300\n",
            " - 0s - loss: 0.3190 - acc: 0.8675\n",
            "Epoch 52/300\n",
            " - 0s - loss: 0.3137 - acc: 0.8707\n",
            "Epoch 53/300\n",
            " - 0s - loss: 0.3103 - acc: 0.8738\n",
            "Epoch 54/300\n",
            " - 0s - loss: 0.3045 - acc: 0.8728\n",
            "Epoch 55/300\n",
            " - 0s - loss: 0.2990 - acc: 0.8791\n",
            "Epoch 56/300\n",
            " - 0s - loss: 0.2945 - acc: 0.8728\n",
            "Epoch 57/300\n",
            " - 0s - loss: 0.2895 - acc: 0.8906\n",
            "Epoch 58/300\n",
            " - 0s - loss: 0.2834 - acc: 0.8917\n",
            "Epoch 59/300\n",
            " - 0s - loss: 0.2782 - acc: 0.8938\n",
            "Epoch 60/300\n",
            " - 0s - loss: 0.2724 - acc: 0.8948\n",
            "Epoch 61/300\n",
            " - 0s - loss: 0.2669 - acc: 0.8948\n",
            "Epoch 62/300\n",
            " - 0s - loss: 0.2613 - acc: 0.9022\n",
            "Epoch 63/300\n",
            " - 0s - loss: 0.2557 - acc: 0.9033\n",
            "Epoch 64/300\n",
            " - 0s - loss: 0.2490 - acc: 0.9085\n",
            "Epoch 65/300\n",
            " - 0s - loss: 0.2439 - acc: 0.9106\n",
            "Epoch 66/300\n",
            " - 0s - loss: 0.2388 - acc: 0.9159\n",
            "Epoch 67/300\n",
            " - 0s - loss: 0.2314 - acc: 0.9232\n",
            "Epoch 68/300\n",
            " - 0s - loss: 0.2267 - acc: 0.9274\n",
            "Epoch 69/300\n",
            " - 0s - loss: 0.2210 - acc: 0.9264\n",
            "Epoch 70/300\n",
            " - 0s - loss: 0.2148 - acc: 0.9317\n",
            "Epoch 71/300\n",
            " - 0s - loss: 0.2104 - acc: 0.9327\n",
            "Epoch 72/300\n",
            " - 0s - loss: 0.2058 - acc: 0.9327\n",
            "Epoch 73/300\n",
            " - 0s - loss: 0.2013 - acc: 0.9359\n",
            "Epoch 74/300\n",
            " - 0s - loss: 0.1968 - acc: 0.9380\n",
            "Epoch 75/300\n",
            " - 0s - loss: 0.1926 - acc: 0.9359\n",
            "Epoch 76/300\n",
            " - 0s - loss: 0.1882 - acc: 0.9359\n",
            "Epoch 77/300\n",
            " - 0s - loss: 0.1847 - acc: 0.9390\n",
            "Epoch 78/300\n",
            " - 0s - loss: 0.1827 - acc: 0.9411\n",
            "Epoch 79/300\n",
            " - 0s - loss: 0.1785 - acc: 0.9443\n",
            "Epoch 80/300\n",
            " - 0s - loss: 0.1753 - acc: 0.9453\n",
            "Epoch 81/300\n",
            " - 0s - loss: 0.1714 - acc: 0.9432\n",
            "Epoch 82/300\n",
            " - 0s - loss: 0.1675 - acc: 0.9485\n",
            "Epoch 83/300\n",
            " - 0s - loss: 0.1652 - acc: 0.9506\n",
            "Epoch 84/300\n",
            " - 0s - loss: 0.1619 - acc: 0.9485\n",
            "Epoch 85/300\n",
            " - 0s - loss: 0.1591 - acc: 0.9527\n",
            "Epoch 86/300\n",
            " - 0s - loss: 0.1567 - acc: 0.9527\n",
            "Epoch 87/300\n",
            " - 0s - loss: 0.1538 - acc: 0.9548\n",
            "Epoch 88/300\n",
            " - 0s - loss: 0.1511 - acc: 0.9527\n",
            "Epoch 89/300\n",
            " - 0s - loss: 0.1483 - acc: 0.9548\n",
            "Epoch 90/300\n",
            " - 0s - loss: 0.1453 - acc: 0.9558\n",
            "Epoch 91/300\n",
            " - 0s - loss: 0.1437 - acc: 0.9600\n",
            "Epoch 92/300\n",
            " - 0s - loss: 0.1408 - acc: 0.9579\n",
            "Epoch 93/300\n",
            " - 0s - loss: 0.1379 - acc: 0.9569\n",
            "Epoch 94/300\n",
            " - 0s - loss: 0.1366 - acc: 0.9600\n",
            "Epoch 95/300\n",
            " - 0s - loss: 0.1343 - acc: 0.9558\n",
            "Epoch 96/300\n",
            " - 0s - loss: 0.1316 - acc: 0.9600\n",
            "Epoch 97/300\n",
            " - 0s - loss: 0.1287 - acc: 0.9600\n",
            "Epoch 98/300\n",
            " - 0s - loss: 0.1282 - acc: 0.9590\n",
            "Epoch 99/300\n",
            " - 0s - loss: 0.1259 - acc: 0.9590\n",
            "Epoch 100/300\n",
            " - 0s - loss: 0.1240 - acc: 0.9579\n",
            "Epoch 101/300\n",
            " - 0s - loss: 0.1221 - acc: 0.9600\n",
            "Epoch 102/300\n",
            " - 0s - loss: 0.1206 - acc: 0.9611\n",
            "Epoch 103/300\n",
            " - 0s - loss: 0.1191 - acc: 0.9621\n",
            "Epoch 104/300\n",
            " - 0s - loss: 0.1172 - acc: 0.9579\n",
            "Epoch 105/300\n",
            " - 0s - loss: 0.1166 - acc: 0.9621\n",
            "Epoch 106/300\n",
            " - 0s - loss: 0.1141 - acc: 0.9600\n",
            "Epoch 107/300\n",
            " - 0s - loss: 0.1127 - acc: 0.9632\n",
            "Epoch 108/300\n",
            " - 0s - loss: 0.1140 - acc: 0.9600\n",
            "Epoch 109/300\n",
            " - 0s - loss: 0.1107 - acc: 0.9632\n",
            "Epoch 110/300\n",
            " - 0s - loss: 0.1098 - acc: 0.9653\n",
            "Epoch 111/300\n",
            " - 0s - loss: 0.1088 - acc: 0.9632\n",
            "Epoch 112/300\n",
            " - 0s - loss: 0.1080 - acc: 0.9664\n",
            "Epoch 113/300\n",
            " - 0s - loss: 0.1049 - acc: 0.9632\n",
            "Epoch 114/300\n",
            " - 0s - loss: 0.1044 - acc: 0.9642\n",
            "Epoch 115/300\n",
            " - 0s - loss: 0.1042 - acc: 0.9632\n",
            "Epoch 116/300\n",
            " - 0s - loss: 0.1019 - acc: 0.9653\n",
            "Epoch 117/300\n",
            " - 0s - loss: 0.1011 - acc: 0.9674\n",
            "Epoch 118/300\n",
            " - 0s - loss: 0.1008 - acc: 0.9664\n",
            "Epoch 119/300\n",
            " - 0s - loss: 0.0992 - acc: 0.9653\n",
            "Epoch 120/300\n",
            " - 0s - loss: 0.0983 - acc: 0.9685\n",
            "Epoch 121/300\n",
            " - 0s - loss: 0.0971 - acc: 0.9653\n",
            "Epoch 122/300\n",
            " - 0s - loss: 0.0962 - acc: 0.9695\n",
            "Epoch 123/300\n",
            " - 0s - loss: 0.0955 - acc: 0.9674\n",
            "Epoch 124/300\n",
            " - 0s - loss: 0.0943 - acc: 0.9674\n",
            "Epoch 125/300\n",
            " - 0s - loss: 0.0938 - acc: 0.9695\n",
            "Epoch 126/300\n",
            " - 0s - loss: 0.0921 - acc: 0.9706\n",
            "Epoch 127/300\n",
            " - 0s - loss: 0.0914 - acc: 0.9685\n",
            "Epoch 128/300\n",
            " - 0s - loss: 0.0904 - acc: 0.9706\n",
            "Epoch 129/300\n",
            " - 0s - loss: 0.0909 - acc: 0.9632\n",
            "Epoch 130/300\n",
            " - 0s - loss: 0.0887 - acc: 0.9695\n",
            "Epoch 131/300\n",
            " - 0s - loss: 0.0888 - acc: 0.9706\n",
            "Epoch 132/300\n",
            " - 0s - loss: 0.0888 - acc: 0.9664\n",
            "Epoch 133/300\n",
            " - 0s - loss: 0.0865 - acc: 0.9706\n",
            "Epoch 134/300\n",
            " - 0s - loss: 0.0863 - acc: 0.9706\n",
            "Epoch 135/300\n",
            " - 0s - loss: 0.0851 - acc: 0.9706\n",
            "Epoch 136/300\n",
            " - 0s - loss: 0.0844 - acc: 0.9706\n",
            "Epoch 137/300\n",
            " - 0s - loss: 0.0828 - acc: 0.9758\n",
            "Epoch 138/300\n",
            " - 0s - loss: 0.0848 - acc: 0.9716\n",
            "Epoch 139/300\n",
            " - 0s - loss: 0.0818 - acc: 0.9716\n",
            "Epoch 140/300\n",
            " - 0s - loss: 0.0810 - acc: 0.9727\n",
            "Epoch 141/300\n",
            " - 0s - loss: 0.0805 - acc: 0.9716\n",
            "Epoch 142/300\n",
            " - 0s - loss: 0.0807 - acc: 0.9727\n",
            "Epoch 143/300\n",
            " - 0s - loss: 0.0790 - acc: 0.9737\n",
            "Epoch 144/300\n",
            " - 0s - loss: 0.0795 - acc: 0.9695\n",
            "Epoch 145/300\n",
            " - 0s - loss: 0.0785 - acc: 0.9706\n",
            "Epoch 146/300\n",
            " - 0s - loss: 0.0780 - acc: 0.9737\n",
            "Epoch 147/300\n",
            " - 0s - loss: 0.0763 - acc: 0.9737\n",
            "Epoch 148/300\n",
            " - 0s - loss: 0.0764 - acc: 0.9727\n",
            "Epoch 149/300\n",
            " - 0s - loss: 0.0761 - acc: 0.9737\n",
            "Epoch 150/300\n",
            " - 0s - loss: 0.0746 - acc: 0.9737\n",
            "Epoch 151/300\n",
            " - 0s - loss: 0.0737 - acc: 0.9748\n",
            "Epoch 152/300\n",
            " - 0s - loss: 0.0738 - acc: 0.9727\n",
            "Epoch 153/300\n",
            " - 0s - loss: 0.0732 - acc: 0.9769\n",
            "Epoch 154/300\n",
            " - 0s - loss: 0.0721 - acc: 0.9758\n",
            "Epoch 155/300\n",
            " - 0s - loss: 0.0722 - acc: 0.9748\n",
            "Epoch 156/300\n",
            " - 0s - loss: 0.0712 - acc: 0.9748\n",
            "Epoch 157/300\n",
            " - 0s - loss: 0.0703 - acc: 0.9779\n",
            "Epoch 158/300\n",
            " - 0s - loss: 0.0703 - acc: 0.9727\n",
            "Epoch 159/300\n",
            " - 0s - loss: 0.0705 - acc: 0.9737\n",
            "Epoch 160/300\n",
            " - 0s - loss: 0.0715 - acc: 0.9758\n",
            "Epoch 161/300\n",
            " - 0s - loss: 0.0691 - acc: 0.9748\n",
            "Epoch 162/300\n",
            " - 0s - loss: 0.0675 - acc: 0.9769\n",
            "Epoch 163/300\n",
            " - 0s - loss: 0.0672 - acc: 0.9769\n",
            "Epoch 164/300\n",
            " - 0s - loss: 0.0680 - acc: 0.9779\n",
            "Epoch 165/300\n",
            " - 0s - loss: 0.0665 - acc: 0.9779\n",
            "Epoch 166/300\n",
            " - 0s - loss: 0.0665 - acc: 0.9748\n",
            "Epoch 167/300\n",
            " - 0s - loss: 0.0665 - acc: 0.9769\n",
            "Epoch 168/300\n",
            " - 0s - loss: 0.0655 - acc: 0.9790\n",
            "Epoch 169/300\n",
            " - 0s - loss: 0.0641 - acc: 0.9758\n",
            "Epoch 170/300\n",
            " - 0s - loss: 0.0647 - acc: 0.9779\n",
            "Epoch 171/300\n",
            " - 0s - loss: 0.0637 - acc: 0.9790\n",
            "Epoch 172/300\n",
            " - 0s - loss: 0.0631 - acc: 0.9769\n",
            "Epoch 173/300\n",
            " - 0s - loss: 0.0630 - acc: 0.9790\n",
            "Epoch 174/300\n",
            " - 0s - loss: 0.0626 - acc: 0.9800\n",
            "Epoch 175/300\n",
            " - 0s - loss: 0.0621 - acc: 0.9779\n",
            "Epoch 176/300\n",
            " - 0s - loss: 0.0614 - acc: 0.9779\n",
            "Epoch 177/300\n",
            " - 0s - loss: 0.0607 - acc: 0.9790\n",
            "Epoch 178/300\n",
            " - 0s - loss: 0.0608 - acc: 0.9800\n",
            "Epoch 179/300\n",
            " - 0s - loss: 0.0599 - acc: 0.9811\n",
            "Epoch 180/300\n",
            " - 0s - loss: 0.0595 - acc: 0.9790\n",
            "Epoch 181/300\n",
            " - 0s - loss: 0.0597 - acc: 0.9800\n",
            "Epoch 182/300\n",
            " - 0s - loss: 0.0599 - acc: 0.9800\n",
            "Epoch 183/300\n",
            " - 0s - loss: 0.0587 - acc: 0.9811\n",
            "Epoch 184/300\n",
            " - 0s - loss: 0.0580 - acc: 0.9811\n",
            "Epoch 185/300\n",
            " - 0s - loss: 0.0580 - acc: 0.9800\n",
            "Epoch 186/300\n",
            " - 0s - loss: 0.0571 - acc: 0.9800\n",
            "Epoch 187/300\n",
            " - 0s - loss: 0.0574 - acc: 0.9790\n",
            "Epoch 188/300\n",
            " - 0s - loss: 0.0579 - acc: 0.9811\n",
            "Epoch 189/300\n",
            " - 0s - loss: 0.0579 - acc: 0.9832\n",
            "Epoch 190/300\n",
            " - 0s - loss: 0.0560 - acc: 0.9811\n",
            "Epoch 191/300\n",
            " - 0s - loss: 0.0562 - acc: 0.9811\n",
            "Epoch 192/300\n",
            " - 0s - loss: 0.0554 - acc: 0.9811\n",
            "Epoch 193/300\n",
            " - 0s - loss: 0.0550 - acc: 0.9811\n",
            "Epoch 194/300\n",
            " - 0s - loss: 0.0567 - acc: 0.9811\n",
            "Epoch 195/300\n",
            " - 0s - loss: 0.0561 - acc: 0.9779\n",
            "Epoch 196/300\n",
            " - 0s - loss: 0.0542 - acc: 0.9811\n",
            "Epoch 197/300\n",
            " - 0s - loss: 0.0547 - acc: 0.9800\n",
            "Epoch 198/300\n",
            " - 0s - loss: 0.0544 - acc: 0.9811\n",
            "Epoch 199/300\n",
            " - 0s - loss: 0.0531 - acc: 0.9821\n",
            "Epoch 200/300\n",
            " - 0s - loss: 0.0529 - acc: 0.9821\n",
            "Epoch 201/300\n",
            " - 0s - loss: 0.0531 - acc: 0.9811\n",
            "Epoch 202/300\n",
            " - 0s - loss: 0.0524 - acc: 0.9821\n",
            "Epoch 203/300\n",
            " - 0s - loss: 0.0519 - acc: 0.9811\n",
            "Epoch 204/300\n",
            " - 0s - loss: 0.0521 - acc: 0.9832\n",
            "Epoch 205/300\n",
            " - 0s - loss: 0.0513 - acc: 0.9821\n",
            "Epoch 206/300\n",
            " - 0s - loss: 0.0512 - acc: 0.9821\n",
            "Epoch 207/300\n",
            " - 0s - loss: 0.0508 - acc: 0.9821\n",
            "Epoch 208/300\n",
            " - 0s - loss: 0.0506 - acc: 0.9832\n",
            "Epoch 209/300\n",
            " - 0s - loss: 0.0503 - acc: 0.9811\n",
            "Epoch 210/300\n",
            " - 0s - loss: 0.0502 - acc: 0.9832\n",
            "Epoch 211/300\n",
            " - 0s - loss: 0.0498 - acc: 0.9821\n",
            "Epoch 212/300\n",
            " - 0s - loss: 0.0497 - acc: 0.9832\n",
            "Epoch 213/300\n",
            " - 0s - loss: 0.0502 - acc: 0.9811\n",
            "Epoch 214/300\n",
            " - 0s - loss: 0.0497 - acc: 0.9842\n",
            "Epoch 215/300\n",
            " - 0s - loss: 0.0483 - acc: 0.9842\n",
            "Epoch 216/300\n",
            " - 0s - loss: 0.0488 - acc: 0.9842\n",
            "Epoch 217/300\n",
            " - 0s - loss: 0.0486 - acc: 0.9821\n",
            "Epoch 218/300\n",
            " - 0s - loss: 0.0483 - acc: 0.9832\n",
            "Epoch 219/300\n",
            " - 0s - loss: 0.0474 - acc: 0.9832\n",
            "Epoch 220/300\n",
            " - 0s - loss: 0.0492 - acc: 0.9832\n",
            "Epoch 221/300\n",
            " - 0s - loss: 0.0473 - acc: 0.9832\n",
            "Epoch 222/300\n",
            " - 0s - loss: 0.0470 - acc: 0.9832\n",
            "Epoch 223/300\n",
            " - 0s - loss: 0.0494 - acc: 0.9832\n",
            "Epoch 224/300\n",
            " - 0s - loss: 0.0486 - acc: 0.9832\n",
            "Epoch 225/300\n",
            " - 0s - loss: 0.0487 - acc: 0.9821\n",
            "Epoch 226/300\n",
            " - 0s - loss: 0.0454 - acc: 0.9842\n",
            "Epoch 227/300\n",
            " - 0s - loss: 0.0461 - acc: 0.9832\n",
            "Epoch 228/300\n",
            " - 0s - loss: 0.0458 - acc: 0.9832\n",
            "Epoch 229/300\n",
            " - 0s - loss: 0.0457 - acc: 0.9832\n",
            "Epoch 230/300\n",
            " - 0s - loss: 0.0460 - acc: 0.9853\n",
            "Epoch 231/300\n",
            " - 0s - loss: 0.0443 - acc: 0.9842\n",
            "Epoch 232/300\n",
            " - 0s - loss: 0.0452 - acc: 0.9842\n",
            "Epoch 233/300\n",
            " - 0s - loss: 0.0451 - acc: 0.9853\n",
            "Epoch 234/300\n",
            " - 0s - loss: 0.0438 - acc: 0.9874\n",
            "Epoch 235/300\n",
            " - 0s - loss: 0.0454 - acc: 0.9853\n",
            "Epoch 236/300\n",
            " - 0s - loss: 0.0452 - acc: 0.9842\n",
            "Epoch 237/300\n",
            " - 0s - loss: 0.0441 - acc: 0.9842\n",
            "Epoch 238/300\n",
            " - 0s - loss: 0.0433 - acc: 0.9842\n",
            "Epoch 239/300\n",
            " - 0s - loss: 0.0430 - acc: 0.9832\n",
            "Epoch 240/300\n",
            " - 0s - loss: 0.0438 - acc: 0.9853\n",
            "Epoch 241/300\n",
            " - 0s - loss: 0.0421 - acc: 0.9863\n",
            "Epoch 242/300\n",
            " - 0s - loss: 0.0432 - acc: 0.9863\n",
            "Epoch 243/300\n",
            " - 0s - loss: 0.0418 - acc: 0.9842\n",
            "Epoch 244/300\n",
            " - 0s - loss: 0.0424 - acc: 0.9842\n",
            "Epoch 245/300\n",
            " - 0s - loss: 0.0445 - acc: 0.9842\n",
            "Epoch 246/300\n",
            " - 0s - loss: 0.0446 - acc: 0.9863\n",
            "Epoch 247/300\n",
            " - 0s - loss: 0.0425 - acc: 0.9842\n",
            "Epoch 248/300\n",
            " - 0s - loss: 0.0408 - acc: 0.9853\n",
            "Epoch 249/300\n",
            " - 0s - loss: 0.0410 - acc: 0.9853\n",
            "Epoch 250/300\n",
            " - 0s - loss: 0.0407 - acc: 0.9853\n",
            "Epoch 251/300\n",
            " - 0s - loss: 0.0403 - acc: 0.9863\n",
            "Epoch 252/300\n",
            " - 0s - loss: 0.0414 - acc: 0.9863\n",
            "Epoch 253/300\n",
            " - 0s - loss: 0.0410 - acc: 0.9863\n",
            "Epoch 254/300\n",
            " - 0s - loss: 0.0406 - acc: 0.9863\n",
            "Epoch 00254: early stopping\n"
          ],
          "name": "stdout"
        },
        {
          "output_type": "execute_result",
          "data": {
            "text/plain": [
              "Pipeline(memory=None,\n",
              "         steps=[('standardscaler',\n",
              "                 StandardScaler(copy=True, with_mean=True, with_std=True)),\n",
              "                ('kerasclassifier',\n",
              "                 <keras.wrappers.scikit_learn.KerasClassifier object at 0x7f441b4d1550>)],\n",
              "         verbose=False)"
            ]
          },
          "metadata": {
            "tags": []
          },
          "execution_count": 34
        }
      ]
    },
    {
      "cell_type": "code",
      "metadata": {
        "id": "fBRX4YW5etTc",
        "colab_type": "code",
        "colab": {
          "base_uri": "https://localhost:8080/",
          "height": 36
        },
        "outputId": "ba520eae-7863-40d8-f757-5b59f1a43c00"
      },
      "source": [
        "model_accuracy = deep_model.score(X_test, y_test)\n",
        "print(\"Deep Neural Network - Accuracy: {}\".format(model_accuracy))"
      ],
      "execution_count": 35,
      "outputs": [
        {
          "output_type": "stream",
          "text": [
            "Deep Neural Network - Accuracy: 0.8921568639138165\n"
          ],
          "name": "stdout"
        }
      ]
    },
    {
      "cell_type": "code",
      "metadata": {
        "id": "bRoYmhWXeyKA",
        "colab_type": "code",
        "colab": {}
      },
      "source": [
        ""
      ],
      "execution_count": 0,
      "outputs": []
    }
  ]
}