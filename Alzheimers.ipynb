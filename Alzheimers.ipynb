{
  "nbformat": 4,
  "nbformat_minor": 0,
  "metadata": {
    "colab": {
      "name": "Alzheimers.ipynb",
      "version": "0.3.2",
      "provenance": [],
      "collapsed_sections": [],
      "include_colab_link": true
    },
    "kernelspec": {
      "name": "python3",
      "display_name": "Python 3"
    }
  },
  "cells": [
    {
      "cell_type": "markdown",
      "metadata": {
        "id": "view-in-github",
        "colab_type": "text"
      },
      "source": [
        "<a href=\"https://colab.research.google.com/github/parismoscow/Alzheimer-s_Disease/blob/master/Alzheimers.ipynb\" target=\"_parent\"><img src=\"https://colab.research.google.com/assets/colab-badge.svg\" alt=\"Open In Colab\"/></a>"
      ]
    },
    {
      "cell_type": "code",
      "metadata": {
        "id": "4Xse9oyR7Cgm",
        "colab_type": "code",
        "colab": {
          "base_uri": "https://localhost:8080/",
          "height": 148
        },
        "outputId": "816e0fa3-a7bd-4b48-82be-e20e1f539818"
      },
      "source": [
        "!pip install imblearn"
      ],
      "execution_count": 162,
      "outputs": [
        {
          "output_type": "stream",
          "text": [
            "Requirement already satisfied: imblearn in /usr/local/lib/python3.6/dist-packages (0.0)\n",
            "Requirement already satisfied: imbalanced-learn in /usr/local/lib/python3.6/dist-packages (from imblearn) (0.4.3)\n",
            "Requirement already satisfied: scikit-learn>=0.20 in /usr/local/lib/python3.6/dist-packages (from imbalanced-learn->imblearn) (0.21.2)\n",
            "Requirement already satisfied: scipy>=0.13.3 in /usr/local/lib/python3.6/dist-packages (from imbalanced-learn->imblearn) (1.3.0)\n",
            "Requirement already satisfied: numpy>=1.8.2 in /usr/local/lib/python3.6/dist-packages (from imbalanced-learn->imblearn) (1.16.4)\n",
            "Requirement already satisfied: joblib>=0.11 in /usr/local/lib/python3.6/dist-packages (from scikit-learn>=0.20->imbalanced-learn->imblearn) (0.13.2)\n"
          ],
          "name": "stdout"
        }
      ]
    },
    {
      "cell_type": "code",
      "metadata": {
        "id": "ifRTf2aBnd05",
        "colab_type": "code",
        "colab": {}
      },
      "source": [
        "import pandas as pd\n",
        "import numpy as np\n",
        "from sklearn.model_selection import train_test_split\n",
        "from sklearn.metrics import classification_report\n",
        "from sklearn.preprocessing import MinMaxScaler\n",
        "from sklearn.preprocessing import StandardScaler\n",
        "from sklearn.model_selection import GridSearchCV\n",
        "from sklearn.ensemble import RandomForestClassifier\n",
        "from imblearn.over_sampling import SMOTE\n"
      ],
      "execution_count": 0,
      "outputs": []
    },
    {
      "cell_type": "code",
      "metadata": {
        "id": "XiXhd9GEqIg8",
        "colab_type": "code",
        "colab": {}
      },
      "source": [
        "df = pd.read_csv(\"/content/drive/My Drive/measures.csv\")"
      ],
      "execution_count": 0,
      "outputs": []
    },
    {
      "cell_type": "code",
      "metadata": {
        "id": "vc96Ly6oJ_mf",
        "colab_type": "code",
        "colab": {
          "base_uri": "https://localhost:8080/",
          "height": 36
        },
        "outputId": "58fb21b3-0511-4317-89ae-2e6e488b8886"
      },
      "source": [
        "df.shape[0]"
      ],
      "execution_count": 165,
      "outputs": [
        {
          "output_type": "execute_result",
          "data": {
            "text/plain": [
              "12741"
            ]
          },
          "metadata": {
            "tags": []
          },
          "execution_count": 165
        }
      ]
    },
    {
      "cell_type": "markdown",
      "metadata": {
        "id": "voQ06fz5O_ln",
        "colab_type": "text"
      },
      "source": [
        "Use all suggested features"
      ]
    },
    {
      "cell_type": "code",
      "metadata": {
        "id": "cQHl73ruFgn9",
        "colab_type": "code",
        "colab": {}
      },
      "source": [
        "df = df.replace(r'^\\s*$', np.nan, regex=True)\n",
        "df.dropna(inplace=True)\n",
        "df.loc[df['ABETA_UPENNBIOMK9_04_19_17'] == '<200', ]['ABETA_UPENNBIOMK9_04_19_17'] = 199\n",
        "df['ABETA_UPENNBIOMK9_04_19_17'] = df['ABETA_UPENNBIOMK9_04_19_17'].astype(float)\n",
        "df.loc[df['TAU_UPENNBIOMK9_04_19_17'] == '>1300', 'TAU_UPENNBIOMK9_04_19_17'] = 1301\n",
        "df.loc[df['TAU_UPENNBIOMK9_04_19_17'] == '<80', 'TAU_UPENNBIOMK9_04_19_17'] = 79\n",
        "df['TAU_UPENNBIOMK9_04_19_17'] = df['TAU_UPENNBIOMK9_04_19_17'].astype(float)\n",
        "df.loc[df['PTAU_UPENNBIOMK9_04_19_17'] == '>120', 'PTAU_UPENNBIOMK9_04_19_17'] = 121\n",
        "df.loc[df['PTAU_UPENNBIOMK9_04_19_17'] == '<8', 'PTAU_UPENNBIOMK9_04_19_17'] = 7\n",
        "df['PTAU_UPENNBIOMK9_04_19_17'] = df['PTAU_UPENNBIOMK9_04_19_17'].astype(float)\n",
        "X=df.drop(columns='DX')\n",
        "y = df['DX']\n",
        "# X_train, X_test, y_train, y_test = train_test_split (X, y, random_state=42)"
      ],
      "execution_count": 0,
      "outputs": []
    },
    {
      "cell_type": "code",
      "metadata": {
        "id": "FcGB8dsHcKpa",
        "colab_type": "code",
        "colab": {
          "base_uri": "https://localhost:8080/",
          "height": 36
        },
        "outputId": "05548f3a-7f84-48b9-998d-a7b26adf9921"
      },
      "source": [
        "df['DX'].count()"
      ],
      "execution_count": 206,
      "outputs": [
        {
          "output_type": "execute_result",
          "data": {
            "text/plain": [
              "837"
            ]
          },
          "metadata": {
            "tags": []
          },
          "execution_count": 206
        }
      ]
    },
    {
      "cell_type": "code",
      "metadata": {
        "id": "YEr_lnU9b07r",
        "colab_type": "code",
        "colab": {
          "base_uri": "https://localhost:8080/",
          "height": 165
        },
        "outputId": "1f6b2fd5-9f52-4e19-e0b0-2989ca771879"
      },
      "source": [
        "df['DX'].value_counts()"
      ],
      "execution_count": 207,
      "outputs": [
        {
          "output_type": "execute_result",
          "data": {
            "text/plain": [
              "MCI                425\n",
              "NL                 281\n",
              "Dementia           107\n",
              "MCI to Dementia     15\n",
              "NL to MCI            5\n",
              "MCI to NL            3\n",
              "Dementia to MCI      1\n",
              "Name: DX, dtype: int64"
            ]
          },
          "metadata": {
            "tags": []
          },
          "execution_count": 207
        }
      ]
    },
    {
      "cell_type": "markdown",
      "metadata": {
        "id": "2gISV-fD3j0H",
        "colab_type": "text"
      },
      "source": [
        "Remove diagnoses that are borderline"
      ]
    },
    {
      "cell_type": "code",
      "metadata": {
        "id": "Z47OkvWZ4Cv8",
        "colab_type": "code",
        "colab": {}
      },
      "source": [
        "df = df.loc[(df['DX'] == 'MCI') | (df['DX'] == 'Dementia') | (df['DX'] == 'NL')]"
      ],
      "execution_count": 0,
      "outputs": []
    },
    {
      "cell_type": "code",
      "metadata": {
        "id": "29RLGF0M5vvR",
        "colab_type": "code",
        "colab": {
          "base_uri": "https://localhost:8080/",
          "height": 91
        },
        "outputId": "c7e92332-8168-41ca-c1c6-beb5159e8d4f"
      },
      "source": [
        "df['DX'].value_counts()"
      ],
      "execution_count": 242,
      "outputs": [
        {
          "output_type": "execute_result",
          "data": {
            "text/plain": [
              "MCI         425\n",
              "NL          281\n",
              "Dementia    107\n",
              "Name: DX, dtype: int64"
            ]
          },
          "metadata": {
            "tags": []
          },
          "execution_count": 242
        }
      ]
    },
    {
      "cell_type": "code",
      "metadata": {
        "id": "0irq-F3p51G3",
        "colab_type": "code",
        "colab": {
          "base_uri": "https://localhost:8080/",
          "height": 36
        },
        "outputId": "42e779fd-8c7d-40cd-a139-b08b06d1159b"
      },
      "source": [
        "df['DX'].count()"
      ],
      "execution_count": 210,
      "outputs": [
        {
          "output_type": "execute_result",
          "data": {
            "text/plain": [
              "813"
            ]
          },
          "metadata": {
            "tags": []
          },
          "execution_count": 210
        }
      ]
    },
    {
      "cell_type": "code",
      "metadata": {
        "id": "5og6_tIQ6gdL",
        "colab_type": "code",
        "colab": {}
      },
      "source": [
        "y = df[\"DX\"]\n",
        "X = df.drop(columns='DX')"
      ],
      "execution_count": 0,
      "outputs": []
    },
    {
      "cell_type": "markdown",
      "metadata": {
        "id": "wdxa7ztPPMbm",
        "colab_type": "text"
      },
      "source": [
        "Use subset of suggested features\n"
      ]
    },
    {
      "cell_type": "code",
      "metadata": {
        "id": "-OoJjQ-7HqXv",
        "colab_type": "code",
        "colab": {
          "base_uri": "https://localhost:8080/",
          "height": 259
        },
        "outputId": "4e68cec7-e615-46ef-cf9c-11634dfd83a0"
      },
      "source": [
        "# testdf = df.drop(columns=['ABETA_UPENNBIOMK9_04_19_17', 'TAU_UPENNBIOMK9_04_19_17', 'PTAU_UPENNBIOMK9_04_19_17', 'FDG', 'AV45'])\n",
        "testdf = df[['CDRSB', 'ADAS13', 'MMSE', 'ADAS11', 'RAVLT_immediate', 'DX']]\n",
        "\n",
        "testdf.dropna(inplace=True)\n",
        "testdf.shape[0]\n",
        "# testdf\n",
        "testdf.dtypes\n",
        "\n"
      ],
      "execution_count": 173,
      "outputs": [
        {
          "output_type": "stream",
          "text": [
            "/usr/local/lib/python3.6/dist-packages/ipykernel_launcher.py:3: SettingWithCopyWarning: \n",
            "A value is trying to be set on a copy of a slice from a DataFrame\n",
            "\n",
            "See the caveats in the documentation: http://pandas.pydata.org/pandas-docs/stable/indexing.html#indexing-view-versus-copy\n",
            "  This is separate from the ipykernel package so we can avoid doing imports until\n"
          ],
          "name": "stderr"
        },
        {
          "output_type": "execute_result",
          "data": {
            "text/plain": [
              "CDRSB              float64\n",
              "ADAS13             float64\n",
              "MMSE               float64\n",
              "ADAS11             float64\n",
              "RAVLT_immediate    float64\n",
              "DX                  object\n",
              "dtype: object"
            ]
          },
          "metadata": {
            "tags": []
          },
          "execution_count": 173
        }
      ]
    },
    {
      "cell_type": "code",
      "metadata": {
        "id": "dwJLUiyzI4Jw",
        "colab_type": "code",
        "colab": {}
      },
      "source": [
        "# testdf.columns"
      ],
      "execution_count": 0,
      "outputs": []
    },
    {
      "cell_type": "code",
      "metadata": {
        "id": "ZkbXLs-ZS5mI",
        "colab_type": "code",
        "colab": {
          "base_uri": "https://localhost:8080/",
          "height": 91
        },
        "outputId": "8d581ce1-297a-46c6-b6aa-13d045d3382a"
      },
      "source": [
        "testdf['DX'].value_counts()"
      ],
      "execution_count": 175,
      "outputs": [
        {
          "output_type": "execute_result",
          "data": {
            "text/plain": [
              "MCI         425\n",
              "NL          281\n",
              "Dementia    107\n",
              "Name: DX, dtype: int64"
            ]
          },
          "metadata": {
            "tags": []
          },
          "execution_count": 175
        }
      ]
    },
    {
      "cell_type": "code",
      "metadata": {
        "id": "X2i_WUjm3s-p",
        "colab_type": "code",
        "colab": {}
      },
      "source": [
        "# y = testdf[\"DX\"]\n",
        "# X=testdf.drop(columns='DX')\n"
      ],
      "execution_count": 0,
      "outputs": []
    },
    {
      "cell_type": "markdown",
      "metadata": {
        "id": "Pcs3JASAS6Ny",
        "colab_type": "text"
      },
      "source": [
        "Split data into train and test"
      ]
    },
    {
      "cell_type": "code",
      "metadata": {
        "id": "N12QSF2gn5ks",
        "colab_type": "code",
        "colab": {}
      },
      "source": [
        "X_train, X_test, y_train, y_test = train_test_split (X, y, random_state=42)"
      ],
      "execution_count": 0,
      "outputs": []
    },
    {
      "cell_type": "markdown",
      "metadata": {
        "id": "qaY-gE6SGoVr",
        "colab_type": "text"
      },
      "source": [
        "Scale the features"
      ]
    },
    {
      "cell_type": "code",
      "metadata": {
        "id": "YE822vZwA-_p",
        "colab_type": "code",
        "colab": {}
      },
      "source": [
        "X_minmax = MinMaxScaler().fit(X_train)\n",
        "\n",
        "X_train_s = X_minmax.transform(X_train)\n",
        "X_test = X_minmax.transform(X_test)\n",
        "\n",
        "# X_scaler = StandardScaler().fit(X_train)\n",
        "# X_train = X_scaler.transform(X_train)\n",
        "# X_test = X_scaler.transform(X_test)"
      ],
      "execution_count": 0,
      "outputs": []
    },
    {
      "cell_type": "code",
      "metadata": {
        "id": "EzZglzGSPma9",
        "colab_type": "code",
        "colab": {}
      },
      "source": [
        ""
      ],
      "execution_count": 0,
      "outputs": []
    },
    {
      "cell_type": "markdown",
      "metadata": {
        "id": "xICk2ERl7O3u",
        "colab_type": "text"
      },
      "source": [
        "Ovesample Demential and NL samples with SMOTE\n"
      ]
    },
    {
      "cell_type": "code",
      "metadata": {
        "id": "rkb4_OVz7Nvp",
        "colab_type": "code",
        "colab": {
          "base_uri": "https://localhost:8080/",
          "height": 91
        },
        "outputId": "0f5b3d1a-9a55-4ef5-d65c-0f7525abba74"
      },
      "source": [
        "y_train.value_counts()"
      ],
      "execution_count": 246,
      "outputs": [
        {
          "output_type": "execute_result",
          "data": {
            "text/plain": [
              "MCI         317\n",
              "NL          210\n",
              "Dementia     82\n",
              "Name: DX, dtype: int64"
            ]
          },
          "metadata": {
            "tags": []
          },
          "execution_count": 246
        }
      ]
    },
    {
      "cell_type": "code",
      "metadata": {
        "id": "xrHQlIw68MDE",
        "colab_type": "code",
        "colab": {}
      },
      "source": [
        "smt = SMOTE()\n",
        "X_train_s, y_train_s = smt.fit_sample(X_train, y_train)"
      ],
      "execution_count": 0,
      "outputs": []
    },
    {
      "cell_type": "code",
      "metadata": {
        "id": "vt1VMSHC8QeJ",
        "colab_type": "code",
        "colab": {
          "base_uri": "https://localhost:8080/",
          "height": 36
        },
        "outputId": "6ce8b99d-27bc-4f95-b7e7-e661d1ad95c7"
      },
      "source": [
        "from collections import Counter\n",
        "\n",
        "print('Resampled dataset shape %s' % Counter(y_train_s))\n",
        "# np.bincount(y_train)"
      ],
      "execution_count": 248,
      "outputs": [
        {
          "output_type": "stream",
          "text": [
            "Resampled dataset shape Counter({'MCI': 317, 'NL': 317, 'Dementia': 317})\n"
          ],
          "name": "stdout"
        }
      ]
    },
    {
      "cell_type": "markdown",
      "metadata": {
        "id": "EvmQV_4N2-CW",
        "colab_type": "text"
      },
      "source": [
        "SVC model"
      ]
    },
    {
      "cell_type": "code",
      "metadata": {
        "id": "uivZYqWJDDkN",
        "colab_type": "code",
        "colab": {
          "base_uri": "https://localhost:8080/",
          "height": 91
        },
        "outputId": "d1bf7c9a-d02e-45c6-d308-4d056e0da227"
      },
      "source": [
        "from sklearn.svm import SVC\n",
        "model = SVC(kernel='linear')\n",
        "model.fit(X_train_s, y_train_s)"
      ],
      "execution_count": 218,
      "outputs": [
        {
          "output_type": "execute_result",
          "data": {
            "text/plain": [
              "SVC(C=1.0, cache_size=200, class_weight=None, coef0=0.0,\n",
              "    decision_function_shape='ovr', degree=3, gamma='auto_deprecated',\n",
              "    kernel='linear', max_iter=-1, probability=False, random_state=None,\n",
              "    shrinking=True, tol=0.001, verbose=False)"
            ]
          },
          "metadata": {
            "tags": []
          },
          "execution_count": 218
        }
      ]
    },
    {
      "cell_type": "code",
      "metadata": {
        "id": "Ucv6lbE1JEgk",
        "colab_type": "code",
        "colab": {
          "base_uri": "https://localhost:8080/",
          "height": 36
        },
        "outputId": "f59d891d-10c2-4004-f5b3-c2614949219c"
      },
      "source": [
        "model.score(X_test, y_test)"
      ],
      "execution_count": 219,
      "outputs": [
        {
          "output_type": "execute_result",
          "data": {
            "text/plain": [
              "0.553921568627451"
            ]
          },
          "metadata": {
            "tags": []
          },
          "execution_count": 219
        }
      ]
    },
    {
      "cell_type": "code",
      "metadata": {
        "id": "nUvHRmtEi_HS",
        "colab_type": "code",
        "colab": {}
      },
      "source": [
        "predictions = model.predict(X_test)"
      ],
      "execution_count": 0,
      "outputs": []
    },
    {
      "cell_type": "code",
      "metadata": {
        "id": "IEG__AzX3EOG",
        "colab_type": "code",
        "colab": {
          "base_uri": "https://localhost:8080/",
          "height": 73
        },
        "outputId": "52281701-04df-4bde-938f-bff4b1957ad2"
      },
      "source": [
        "from sklearn.metrics import confusion_matrix\n",
        "confusion_matrix(y_test, predictions)"
      ],
      "execution_count": 184,
      "outputs": [
        {
          "output_type": "execute_result",
          "data": {
            "text/plain": [
              "array([[21,  4,  0],\n",
              "       [ 4, 78, 26],\n",
              "       [ 0,  2, 69]])"
            ]
          },
          "metadata": {
            "tags": []
          },
          "execution_count": 184
        }
      ]
    },
    {
      "cell_type": "code",
      "metadata": {
        "id": "Ezic9UqXjFng",
        "colab_type": "code",
        "colab": {
          "base_uri": "https://localhost:8080/",
          "height": 202
        },
        "outputId": "e5aeb17c-c3db-491b-ce6c-eae20c572dda"
      },
      "source": [
        "print(classification_report(y_test, predictions))"
      ],
      "execution_count": 185,
      "outputs": [
        {
          "output_type": "stream",
          "text": [
            "              precision    recall  f1-score   support\n",
            "\n",
            "    Dementia       0.84      0.84      0.84        25\n",
            "         MCI       0.93      0.72      0.81       108\n",
            "          NL       0.73      0.97      0.83        71\n",
            "\n",
            "    accuracy                           0.82       204\n",
            "   macro avg       0.83      0.84      0.83       204\n",
            "weighted avg       0.85      0.82      0.82       204\n",
            "\n"
          ],
          "name": "stdout"
        }
      ]
    },
    {
      "cell_type": "markdown",
      "metadata": {
        "id": "NibWOGNba4T4",
        "colab_type": "text"
      },
      "source": [
        "Random Forest"
      ]
    },
    {
      "cell_type": "code",
      "metadata": {
        "id": "DqHHiVEIjcsw",
        "colab_type": "code",
        "colab": {
          "base_uri": "https://localhost:8080/",
          "height": 36
        },
        "outputId": "401cd742-4b78-4573-f1b2-80cecf33ac4e"
      },
      "source": [
        "rf = RandomForestClassifier(n_estimators=100)\n",
        "rf = rf.fit(X_train_s, y_train_s)\n",
        "rf.score(X_test, y_test)\n"
      ],
      "execution_count": 249,
      "outputs": [
        {
          "output_type": "execute_result",
          "data": {
            "text/plain": [
              "0.9264705882352942"
            ]
          },
          "metadata": {
            "tags": []
          },
          "execution_count": 249
        }
      ]
    },
    {
      "cell_type": "code",
      "metadata": {
        "id": "9K75CAuua9dW",
        "colab_type": "code",
        "colab": {
          "base_uri": "https://localhost:8080/",
          "height": 202
        },
        "outputId": "a1b0fcc2-de25-44ea-8926-8bd9bd729635"
      },
      "source": [
        "predictions = rf.predict(X_test)\n",
        "print(classification_report(y_test, predictions))"
      ],
      "execution_count": 237,
      "outputs": [
        {
          "output_type": "stream",
          "text": [
            "              precision    recall  f1-score   support\n",
            "\n",
            "    Dementia       0.84      0.84      0.84        25\n",
            "         MCI       0.93      0.94      0.94       108\n",
            "          NL       0.97      0.94      0.96        71\n",
            "\n",
            "    accuracy                           0.93       204\n",
            "   macro avg       0.91      0.91      0.91       204\n",
            "weighted avg       0.93      0.93      0.93       204\n",
            "\n"
          ],
          "name": "stdout"
        }
      ]
    },
    {
      "cell_type": "code",
      "metadata": {
        "id": "iZaHlOGMJirm",
        "colab_type": "code",
        "colab": {
          "base_uri": "https://localhost:8080/",
          "height": 73
        },
        "outputId": "89210cdf-ba6b-46a4-b3d8-c309c072a990"
      },
      "source": [
        "from sklearn.metrics import confusion_matrix\n",
        "confusion_matrix(y_test, predictions)"
      ],
      "execution_count": 238,
      "outputs": [
        {
          "output_type": "execute_result",
          "data": {
            "text/plain": [
              "array([[ 21,   4,   0],\n",
              "       [  4, 102,   2],\n",
              "       [  0,   4,  67]])"
            ]
          },
          "metadata": {
            "tags": []
          },
          "execution_count": 238
        }
      ]
    },
    {
      "cell_type": "code",
      "metadata": {
        "id": "lW6EA1YZliGm",
        "colab_type": "code",
        "colab": {}
      },
      "source": [
        "importances = rf.feature_importances_\n"
      ],
      "execution_count": 0,
      "outputs": []
    },
    {
      "cell_type": "code",
      "metadata": {
        "id": "Vt6iqO6Qlk1T",
        "colab_type": "code",
        "colab": {}
      },
      "source": [
        "# X2_features = X2.columns\n",
        "X_features = X.columns"
      ],
      "execution_count": 0,
      "outputs": []
    },
    {
      "cell_type": "code",
      "metadata": {
        "id": "obZph5N6lpoV",
        "colab_type": "code",
        "colab": {
          "base_uri": "https://localhost:8080/",
          "height": 332
        },
        "outputId": "61ed7984-9fe8-49d2-bd6f-2a3e114b3c9a"
      },
      "source": [
        "sorted(zip(rf.feature_importances_, X_features), reverse=True)"
      ],
      "execution_count": 227,
      "outputs": [
        {
          "output_type": "execute_result",
          "data": {
            "text/plain": [
              "[(0.37900453352316577, 'CDRSB'),\n",
              " (0.12358290715708806, 'ADAS13'),\n",
              " (0.11095800924999923, 'ADAS11'),\n",
              " (0.10351035621031743, 'MMSE'),\n",
              " (0.0531776560334385, 'RAVLT_immediate'),\n",
              " (0.03415291025428216, 'FDG'),\n",
              " (0.026969593016989524, 'ABETA_UPENNBIOMK9_04_19_17'),\n",
              " (0.024816978469119233, 'AGE'),\n",
              " (0.023380120378983373, 'Hippocampus'),\n",
              " (0.022301264288228175, 'AV45'),\n",
              " (0.018297423632261948, 'Entorhinal'),\n",
              " (0.016504000603252866, 'PTAU_UPENNBIOMK9_04_19_17'),\n",
              " (0.015584370581552341, 'Ventricles'),\n",
              " (0.014425634907506073, 'WholeBrain'),\n",
              " (0.013421375801342825, 'TAU_UPENNBIOMK9_04_19_17'),\n",
              " (0.012210173102571744, 'MidTemp'),\n",
              " (0.007702692789900871, 'APOE4')]"
            ]
          },
          "metadata": {
            "tags": []
          },
          "execution_count": 227
        }
      ]
    },
    {
      "cell_type": "code",
      "metadata": {
        "id": "56hYkSrOFi0P",
        "colab_type": "code",
        "colab": {}
      },
      "source": [
        ""
      ],
      "execution_count": 0,
      "outputs": []
    },
    {
      "cell_type": "markdown",
      "metadata": {
        "id": "Oa6Gch0WBc9_",
        "colab_type": "text"
      },
      "source": [
        "UAC \n"
      ]
    },
    {
      "cell_type": "code",
      "metadata": {
        "id": "T7ibIveu0PR5",
        "colab_type": "code",
        "colab": {}
      },
      "source": [
        "# import numpy as np\n",
        "# import matplotlib.pyplot as plt\n",
        "# from itertools import cycle\n",
        "\n",
        "# from sklearn import svm, datasets\n",
        "# from sklearn.metrics import roc_curve, auc\n",
        "# from sklearn.model_selection import train_test_split\n",
        "# from sklearn.preprocessing import label_binarize\n",
        "# from sklearn.multiclass import OneVsRestClassifier\n",
        "# from scipy import interp\n",
        "\n",
        "# # Import some data to play with\n",
        "# # iris = datasets.load_iris()\n",
        "# # X = iris.data\n",
        "# # y = iris.target\n",
        "\n",
        "# # Binarize the output\n",
        "# y = label_binarize(y, classes=[0, 1, 2])\n",
        "# n_classes = y.shape[1]\n",
        "\n",
        "# # Add noisy features to make the problem harder\n",
        "# # random_state = np.random.RandomState(0)\n",
        "# # n_samples, n_features = X.shape\n",
        "# # X = np.c_[X, random_state.randn(n_samples, 200 * n_features)]\n",
        "\n",
        "# # shuffle and split training and test sets\n",
        "# # X_train, X_test, y_train, y_test = train_test_split(X, y, test_size=.5,\n",
        "# #                                                     random_state=0)\n",
        "\n",
        "# # # Learn to predict each class against the other\n",
        "# # classifier = OneVsRestClassifier(svm.SVC(kernel='linear', probability=True,\n",
        "# #                                  random_state=random_state))\n",
        "# y_score = classifier.fit(X_train, y_train).decision_function(X_test_s)\n",
        "\n",
        "# # Compute ROC curve and ROC area for each class\n",
        "# fpr = dict()\n",
        "# tpr = dict()\n",
        "# roc_auc = dict()\n",
        "# for i in range(n_classes):\n",
        "#     fpr[i], tpr[i], _ = roc_curve(y_test[:, i], y_score[:, i])\n",
        "#     roc_auc[i] = auc(fpr[i], tpr[i])\n",
        "\n",
        "# # Compute micro-average ROC curve and ROC area\n",
        "# fpr[\"micro\"], tpr[\"micro\"], _ = roc_curve(y_test.ravel(), y_score.ravel())\n",
        "# roc_auc[\"micro\"] = auc(fpr[\"micro\"], tpr[\"micro\"])"
      ],
      "execution_count": 0,
      "outputs": []
    },
    {
      "cell_type": "code",
      "metadata": {
        "id": "l-kG702HHeL9",
        "colab_type": "code",
        "colab": {}
      },
      "source": [
        "# from sklearn.dummy import DummyClassifier\n",
        "# dummy = DummyClassifier(strategy=\"most_frequent\")\n",
        "# dummy.fit(X_train_s, y_train_s)\n",
        "# dummy.score(X_test, y_test)\n",
        "# predictions = dummy.predict(X_test)\n",
        "# print(classification_report(y_test, predictions))"
      ],
      "execution_count": 0,
      "outputs": []
    },
    {
      "cell_type": "code",
      "metadata": {
        "id": "YWWMYGF9BnSi",
        "colab_type": "code",
        "colab": {}
      },
      "source": [
        "# "
      ],
      "execution_count": 0,
      "outputs": []
    }
  ]
}